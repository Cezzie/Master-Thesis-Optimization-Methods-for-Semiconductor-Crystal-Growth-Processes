{
 "cells": [
  {
   "cell_type": "code",
   "execution_count": null,
   "metadata": {},
   "outputs": [],
   "source": [
    "import numpy as np\n",
    "import matplotlib.pyplot as plt\n",
    "import matplotlib.animation as animation\n",
    "import matplotlib.tri as mtri\n",
    "import matplotlib.cm as cm\n",
    "import matplotlib.colors as mcolors\n",
    "from mpl_toolkits.axes_grid1 import make_axes_locatable\n",
    "import os\n",
    "\n",
    "from skfem import *\n",
    "from skfem import MeshTri, Basis, ElementTriP2, ElementVector\n",
    "from skfem.assembly import BilinearForm, LinearForm\n",
    "from skfem.helpers import ddot\n",
    "from skfem.visuals.matplotlib import plot"
   ]
  },
  {
   "cell_type": "markdown",
   "metadata": {},
   "source": [
    "Let us start with the two meshes"
   ]
  },
  {
   "cell_type": "code",
   "execution_count": 2,
   "metadata": {},
   "outputs": [],
   "source": [
    "# import numpy as np\n",
    "\n",
    "\n",
    "# # Define new vertices based on the given dimensions\n",
    "r_side = .06  # mm (width)\n",
    "z_mid = .05  # mm (junction height)\n",
    "z_top = .15  # mm (top of the square)\n",
    "z_between = .1\n",
    "# Define the vertices for the adjusted shape\n",
    "vertices = np.array([\n",
    "    [0.0, 0.0],   # Bottom-left (triangle)\n",
    "    [r_side, z_mid],   # Bottom-right (shared vertex at junction)\n",
    "    [r_side, z_between],\n",
    "    [r_side, z_top],   # Top-right (rectangle)\n",
    "    [0.0, z_top], # Top-left (rectangle)\n",
    "    [0.0, z_between],\n",
    "    [0.0, z_mid], # Middle shared vertex (junction)\n",
    "])\n",
    "\n",
    "# Define the connectivity of the mesh\n",
    "triangles = np.array([\n",
    "    [0, 6, 1],  # Triangle below\n",
    "    [6, 2, 1],  # First rectangle triangle\n",
    "    [6, 5, 2],  # Second rectangle triangle\n",
    "    [5, 3, 2],\n",
    "    [5, 4, 3],\n",
    "])\n",
    "\n",
    "# Create the mesh\n",
    "mesh = MeshTri(vertices.T, triangles.T)\n",
    "\n",
    "# Refining the mesh while keeping equal spacing in x and y\n",
    "mesh = mesh.refined(5)  # Increase this if needed for finer resolution\n",
    "\n",
    "# Define boundary markers\n",
    "boundary_markers = {\n",
    "    \"left\": lambda x: np.abs(x[0] - 0.0) < 1e-8,        # Left edge (x = 0)\n",
    "    \"right\": lambda x: np.abs(x[0] - r_side) < 1e-8,         # Right edge (x = r)\n",
    "    \"top\": lambda x: np.abs(x[1] - z_top) < 1e-8,       # Top edge (y = z_top)\n",
    "    \"diagonal\": lambda x: np.abs(x[1] - x[0] * z_mid / r_side) < 1e-8,  # Adjust diagonal equation\n",
    "}\n",
    "\n",
    "mesh = mesh.with_boundaries(boundary_markers)\n",
    "\n",
    "# Define the finite element basis\n",
    "temperature_e_P1 = ElementTriP2()\n",
    "temperature_e_P2 = ElementTriP2()\n",
    "stress_e = ElementVector(ElementTriP2())  # Ensures displacement field is vector-valued\n",
    "\n",
    "temperature_basis = Basis(mesh, temperature_e_P1)\n",
    "fbasis_gamma = temperature_basis.boundary({'top'})  # Boundary basis for Neumann condition for Heat Equation\n",
    "\n",
    "temperature_basis_P2_temporarily = temperature_basis.with_element(ElementTriP2())\n",
    "temperature_basis_P2 = Basis(mesh, temperature_e_P2)\n",
    "stress_basis = Basis(mesh, stress_e)"
   ]
  },
  {
   "cell_type": "code",
   "execution_count": 3,
   "metadata": {},
   "outputs": [
    {
     "data": {
      "text/plain": [
       "<skfem DofsView(MeshTri1, ElementTriP2) object>\n",
       "  Number of nodal DOFs: 97 ['u']\n",
       "  Number of facet DOFs: 96 ['u']"
      ]
     },
     "execution_count": 3,
     "metadata": {},
     "output_type": "execute_result"
    }
   ],
   "source": [
    "temperature_basis.get_dofs({'right', 'diagonal'})"
   ]
  },
  {
   "cell_type": "markdown",
   "metadata": {},
   "source": [
    "Now the physics parameters"
   ]
  },
  {
   "cell_type": "code",
   "execution_count": 4,
   "metadata": {},
   "outputs": [
    {
     "name": "stdout",
     "output_type": "stream",
     "text": [
      "1956696.0\n",
      "7.154095656093703\n"
     ]
    }
   ],
   "source": [
    "# Physical parameters\n",
    "rho = 5320\n",
    "c = 367.8\n",
    "\n",
    "rhoc = rho * c\n",
    "print(rhoc)\n",
    "#Converting them to mm\n",
    "# rhoc = 1.95624e6 #* (1e-9)# Density * Specific heat J/m^3K to J/mm^3K\n",
    "# print(rhoc)\n",
    "# K = 10 ** 4.32 # Thermal conductivity\n",
    "# K = 7.2  # Thermal conductivity\n",
    "sigma_SB = 5.6703e-8 #* (10e-6)  # Stefan-Boltzmann constant (W/m^2.K^4) to  (W/mm^2.K^4)\n",
    "epsilon_1 = .50  # Emissivity of the crystal\n",
    "epsilon_2 = 1  # Emissivity of the quartz glass\n",
    "T_S = 1238 + 273.15 #Melting point GaAs\n",
    "T_r = 20 + 273.15\n",
    "K =  (10 ** 4.32) * ((T_S) ** (-1.09)) #* (10e-3)  # Thermal conductivity  (W/Km) to W/Kmm\n",
    "print(K)\n",
    "alpha = 1.06e-5  # Thermal expansion coefficient\n",
    "T0 = 0 #T_r  # Reference temperature\n",
    "\n",
    "# Tensor\n",
    "C11 = 1.12e11\n",
    "C12 = 0.34e11\n",
    "C13 = 0.46e11\n",
    "C22 = 1.12e11\n",
    "C23 = 0.46e11\n",
    "C33 = 1e11\n",
    "C44 = 0.51e11\n",
    "\n",
    "C = np.array([\n",
    "    [C11, C12, C13,  0  ],\n",
    "    [C12, C22, C23,  0  ],\n",
    "    [C13, C23, C33,  0  ],\n",
    "    [ 0,   0,   0,  C44 ]\n",
    "])"
   ]
  },
  {
   "cell_type": "markdown",
   "metadata": {},
   "source": [
    "Heat Equation Weak Form"
   ]
  },
  {
   "cell_type": "code",
   "execution_count": 5,
   "metadata": {},
   "outputs": [],
   "source": [
    "@BilinearForm\n",
    "def mass(u, v, w):\n",
    "    r = w.x[0]  # Radial coordinate\n",
    "    return rhoc * u * v * r\n",
    "\n",
    "@BilinearForm\n",
    "def stiffness_r(u, v, w):\n",
    "    r = w.x[0]\n",
    "    return K * u.grad[0] * v.grad[0] * r\n",
    "\n",
    "@BilinearForm\n",
    "def stiffness_z(u, v, w):\n",
    "    r = w.x[0]\n",
    "    return K * u.grad[1] * v.grad[1] * r\n",
    "\n",
    "# Define the radiative heat flux as a LinearForm\n",
    "@LinearForm\n",
    "def neumann(v, w):\n",
    "    r, z = w.x[0], w.x[1]  # Radial and axial coordinates\n",
    "\n",
    "    T_boundary = w['T_boundary']\n",
    "    T_top_right = w['T_top_right']   # Top right temp\n",
    "    T_top_right_grad = w['T_top_right_grad']\n",
    "\n",
    "    T_ambient4sigma = ((T_top_right ) * (sigma_SB ** (1/4)))**4 + K * T_top_right_grad / epsilon_1\n",
    "\n",
    "    q_R = - epsilon_1 * epsilon_2 * ((T_boundary * (sigma_SB ** (1/4)))**4 - T_ambient4sigma)\n",
    "\n",
    "    return q_R * v * r"
   ]
  },
  {
   "cell_type": "markdown",
   "metadata": {},
   "source": [
    "Help Functions for the Stress Equation"
   ]
  },
  {
   "cell_type": "code",
   "execution_count": 6,
   "metadata": {},
   "outputs": [],
   "source": [
    "def axisymmetric_strain(u, r):\n",
    "    \"\"\"Compute the axisymmetric symmetric gradient (strain)\"\"\"\n",
    "    grad_u = u.grad  # Already correct shape (2,2,3072,3)\n",
    "\n",
    "    du_dr = u.grad[0, 0]  # ∂u_r / ∂r  → Shape (3072,3)\n",
    "    du_dz = u.grad[1, 0]  # ∂u_r / ∂z  → Shape (3072,3)\n",
    "    dv_dr = u.grad[0, 1]  # ∂u_z / ∂r  → Shape (3072,3)\n",
    "    dv_dz = u.grad[1, 1]  # ∂u_z / ∂z  → Shape (3072,3)\n",
    "\n",
    "    u_r = u[0]  # Shape (3072,6)\n",
    "\n",
    "    # Explicitly stack into the correct shape (3,3,3072,3)\n",
    "    eps_u = np.stack([\n",
    "        [du_dr, np.zeros_like(du_dr), 0.5 * (du_dz + dv_dr)],\n",
    "        [np.zeros_like(du_dr), u_r / r, np.zeros_like(du_dr)],\n",
    "        [0.5 * (du_dz + dv_dr), np.zeros_like(du_dr), dv_dz]\n",
    "    ], axis=0)  # Stack along axis=0 to preserve full shape\n",
    "    \n",
    "    return eps_u\n",
    "\n",
    "def fct_C(x):\n",
    "    \"\"\"Double Dot Product with the Fourth Order Tensor\n",
    "    Input 3 by 3 matrix, elements, nodes, output 3 by 3 matrix, elements, nodes.\n",
    "    \"\"\"\n",
    "\n",
    "    #Flatten the nonzero elements\n",
    "    xflat = np.array([\n",
    "        x[0, 0], \n",
    "        x[1, 1],\n",
    "        x[2, 2],\n",
    "        x[0, 2]\n",
    "    ]) \n",
    "    y = np.einsum('ij,jmn->imn', C, xflat)\n",
    "    \n",
    "    #Shape it back\n",
    "    # result = np.array([\n",
    "    #     [y[0], 0, y[3]],\n",
    "    #     [0, y[1], 0],\n",
    "    #     [y[3], 0, y[2]]\n",
    "    # ])\n",
    "    result = np.zeros_like(x)\n",
    "    result[0, 0] = y[0]\n",
    "    result[1, 1] = y[1]\n",
    "    result[2, 2] = y[2]\n",
    "    result[0, 2] = y[3]\n",
    "    result[2, 0] = y[3]\n",
    "\n",
    "    return result\n",
    "\n",
    "def thermal_strain(T):\n",
    "    I = np.eye(3)  # Shape (3,3)\n",
    "    # T shape elements (3072), nodes (3)\n",
    "    return np.einsum('ij,ab->ijab', I, alpha * (T - T0))"
   ]
  },
  {
   "cell_type": "markdown",
   "metadata": {},
   "source": [
    "Stress Equation Weak Form"
   ]
  },
  {
   "cell_type": "code",
   "execution_count": null,
   "metadata": {},
   "outputs": [],
   "source": [
    "# Define weak form of elasticity\n",
    "@BilinearForm\n",
    "def bilinear(u, v, w):\n",
    "    r = w.x[0]\n",
    "\n",
    "    # Extract r-coordinate\n",
    "    eps_u = axisymmetric_strain(u, r)\n",
    "    eps_v = axisymmetric_strain(v, r)\n",
    "    # Stress-strain relationship (Hooke's Law for isotropic material)\n",
    "    sigma_u = fct_C(eps_u)\n",
    "\n",
    "    doubledotlhs = np.einsum('ijkl,ijkl->kl', sigma_u, eps_v)\n",
    "\n",
    "    return doubledotlhs * r # Multiply by r for axisymmetry\n",
    "\n",
    "# Define load vector (body forces)\n",
    "@LinearForm\n",
    "def thermal_force(v, w):\n",
    "    r = w.x[0]\n",
    "    eps_v = axisymmetric_strain(v, r)\n",
    "    Temp_Field = w['Temperature_Field']\n",
    "    therm_strain = thermal_strain(Temp_Field)\n",
    "    Cthe_str = fct_C(therm_strain)\n",
    "    doubledotrhs = np.einsum('ijkl,ijkl->kl', Cthe_str, eps_v)\n",
    "    return doubledotrhs * r\n"
   ]
  },
  {
   "cell_type": "markdown",
   "metadata": {},
   "source": [
    "Heat Solver"
   ]
  },
  {
   "cell_type": "code",
   "execution_count": 8,
   "metadata": {},
   "outputs": [],
   "source": [
    "# Time-stepping parameters\n",
    "dt = 100\n",
    "t_end = 1 * 3600.0\n",
    "n_steps = int(t_end / dt)\n",
    "\n",
    "# Find the index of the top-right vertex\n",
    "max_x = np.max(mesh.p[0])  # Maximum x-coordinate\n",
    "max_y = np.max(mesh.p[1])  # Maximum y-coordinate\n",
    "\n",
    "# Find the vertex index corresponding to (max_x, max_y)\n",
    "top_right_index = np.where((mesh.p[0] == max_x) & (mesh.p[1] == max_y))[0][0]\n",
    "\n",
    "# Parameters\n",
    "num_segments = 10\n",
    "# t_end = 7 * 3600  # 7 hours in seconds\n",
    "z_segments = np.linspace(0, z_top, num_segments + 1)  # 10 equal segments\n",
    "max_decrease_per_step = 10  # Maximum random decrease per step"
   ]
  },
  {
   "cell_type": "code",
   "execution_count": null,
   "metadata": {},
   "outputs": [],
   "source": [
    "#Heater Configuration\n",
    "\n",
    "# Initial condition (time t=0)\n",
    "DT = 100\n",
    "lin_profile = lambda x: DT * (x[1] - z_top) + T_S\n",
    "u_init = temperature_basis.project(lin_profile)\n",
    "\n",
    "import numpy as np\n",
    "class TimeDependentDirichlet:\n",
    "    def __init__(self, t):\n",
    "        self.t = t\n",
    "\n",
    "    def update_time(self, t):\n",
    "        self.t = t\n",
    "\n",
    "    def __call__(self, x):\n",
    "        z = x[1]\n",
    "        alp = (t_end - self.t) / t_end \n",
    "        # alp = 1\n",
    "        a = DT * alp\n",
    "        b = (T_S - z_top * DT - T_r)* alp + T_r\n",
    "        return a * z + b \n",
    "        # return T_r\n",
    "\n",
    "    \n",
    "    def gradient_at_top_right(self):\n",
    "        alp = (t_end - self.t) / t_end\n",
    "        # alp = 1\n",
    "        # return 0\n",
    "        return DT * alp\n",
    "\n",
    "    def value_at_top_right(self):\n",
    "        # Temperature at z = z_top\n",
    "        return self.__call__([0, z_top])"
   ]
  },
  {
   "cell_type": "code",
   "execution_count": 10,
   "metadata": {},
   "outputs": [
    {
     "name": "stdout",
     "output_type": "stream",
     "text": [
      "Gradient at top right: 100.0\n",
      "Value at top right: 1511.15\n"
     ]
    }
   ],
   "source": [
    "dirichlet = TimeDependentDirichlet(t=0)\n",
    "# dirichlet.update_time(t=0)\n",
    "# print(dirichlet.current_b_values)\n",
    "print(\"Gradient at top right:\", dirichlet.gradient_at_top_right())\n",
    "print(\"Value at top right:\", dirichlet.value_at_top_right())"
   ]
  },
  {
   "cell_type": "code",
   "execution_count": 11,
   "metadata": {},
   "outputs": [
    {
     "data": {
      "image/png": "[encoded data removed]",
      "text/plain": [
       "<Figure size 640x480 with 1 Axes>"
      ]
     },
     "metadata": {},
     "output_type": "display_data"
    }
   ],
   "source": [
    "z_plot = np.linspace(0, z_top, 1000)  # Smooth z values\n",
    "T_plot = np.array([dirichlet([0, z]) for z in z_plot])\n",
    "plt.plot(z_plot, T_plot, label=f't = {0 / 3600:.1f} hrs')\n",
    "\n",
    "# Plot segment boundaries\n",
    "# plt.scatter(z_segments[:-1], dirichlet.compute_initial_b_values()[:-1], color='r', marker='o', label='Initial Segments')\n",
    "\n",
    "plt.xlabel(\"Height (z)\")\n",
    "plt.ylabel(\"Temperature (°C)\")\n",
    "plt.title(\"Time-Dependent Dirichlet Boundary Evolution (Fixed)\")\n",
    "plt.legend()\n",
    "plt.grid(True)\n",
    "plt.show()"
   ]
  },
  {
   "cell_type": "code",
   "execution_count": 12,
   "metadata": {},
   "outputs": [],
   "source": [
    "# Assemble matrices, these are unchanged over time\n",
    "K_r = asm(stiffness_r, temperature_basis)\n",
    "K_z = asm(stiffness_z, temperature_basis)\n",
    "A = K_r + K_z\n",
    "M = asm(mass, temperature_basis)"
   ]
  },
  {
   "cell_type": "markdown",
   "metadata": {},
   "source": [
    "Defined function to solve one step"
   ]
  },
  {
   "cell_type": "code",
   "execution_count": null,
   "metadata": {},
   "outputs": [],
   "source": [
    "def solve_step(t_step, u_prev, dt, BCs):\n",
    "    \"\"\"The solver for one step, t_step is the current time of the step\n",
    "    u_prev, is previous solution, BCs is the boundary condition class\n",
    "    \n",
    "    returns new_time, u_next\"\"\"\n",
    "  \n",
    "    # Apply Dirichlet boundary conditions\n",
    "    u_bc = temperature_basis.project(BCs)\n",
    "\n",
    "    # Interpolate the previous solution onto the Neumann boundary\n",
    "    T_boundary = fbasis_gamma.interpolate(u_prev)\n",
    "    T_top_right = BCs.value_at_top_right()\n",
    "    grad_u_z_top_right = BCs.gradient_at_top_right()\n",
    "\n",
    "    # Prepare the parameters for the Neumann condition\n",
    "    neumann_params = {'T_boundary': T_boundary, 'T_top_right': T_top_right, 'T_top_right_grad': grad_u_z_top_right}  # Example ambient temperature\n",
    "\n",
    "    # Assemble the Neumann boundary term\n",
    "    f = asm(neumann, fbasis_gamma, **neumann_params)\n",
    "\n",
    "    # Right-hand side\n",
    "    rhs = M @ u_prev + dt * f\n",
    "\n",
    "    # Left-hand side\n",
    "    lhs = M + dt * A\n",
    "\n",
    "    # Solve the linear system, inducing the dirichlet boundary conditions\n",
    "    u_next = solve(\n",
    "        *condense(lhs, rhs, x=u_bc, D=temperature_basis.get_dofs({'right', 'diagonal'}))\n",
    "    )\n",
    "    new_t_step = t_step + dt\n",
    "\n",
    "    BCs.update_time(t_step)  # Update boundary condition\n",
    "    \n",
    "    return new_t_step, u_next, u_bc\n"
   ]
  },
  {
   "cell_type": "markdown",
   "metadata": {},
   "source": [
    "Complete Solver, makes the temperature evolution"
   ]
  },
  {
   "cell_type": "code",
   "execution_count": 14,
   "metadata": {},
   "outputs": [],
   "source": [
    "def Heat_Evolution(t_final, n_steps, dt, BCs, u_init):\n",
    "    \"\"\"Returns the full solution over time\n",
    "    Needed:\n",
    "    t_final: the ending time\n",
    "    n_steps: number of steps\n",
    "    dt: step_size\n",
    "    BCs: the heater_configuration class\n",
    "    u_init: initial temperature field\n",
    "    \n",
    "    returns list of tuples (t, u) for each timestep\"\"\"\n",
    "\n",
    "    #initialization\n",
    "    u_prev = u_init\n",
    "\n",
    "    # Apply Dirichlet boundary conditions\n",
    "    u_init_bc = temperature_basis.project(BCs)\n",
    "\n",
    "    t_prev = 0.0\n",
    "    evolution = []\n",
    "    \n",
    "    evolution.append((t_prev, u_init, u_init_bc))\n",
    "\n",
    "    #Check\n",
    "    print(n_steps == int(t_final / dt))\n",
    "\n",
    "    for step in range(n_steps):\n",
    "        \n",
    "        t_new, u_next, u_bc = solve_step(t_prev, u_prev, dt, BCs)\n",
    "        evolution.append((t_new, u_next, u_bc))\n",
    "\n",
    "        t_prev = t_new\n",
    "        u_prev = u_next\n",
    "         \n",
    "    return evolution"
   ]
  },
  {
   "cell_type": "code",
   "execution_count": 15,
   "metadata": {},
   "outputs": [],
   "source": [
    "# Get unique x and y coordinates\n",
    "x_coords = np.unique(mesh.p[0, :])\n",
    "y_coords = np.unique(mesh.p[1, :])\n",
    "\n",
    "# Create mappings for x and y coordinates to indices\n",
    "x_to_idx = {x: i for i, x in enumerate(x_coords)}\n",
    "y_to_idx = {y: i for i, y in enumerate(y_coords)}\n",
    "\n",
    "def Heat_Stress_Tensor_Saver(n_steps, heatlist, stresslist, x_to_idx, y_to_idx, x_coords, y_coords):\n",
    "\n",
    "    # Dirichlet nodes\n",
    "    dirichlet_nodes = temperature_basis.get_dofs({'right', 'diagonal'}).flatten()\n",
    "    # Get the indices of DOFs that correspond to the nodes\n",
    "    node_dofs = np.array(temperature_basis.nodal_dofs).flatten() \n",
    "    # Create the 4D tensor\n",
    "    T_tensor = np.zeros((len(y_coords), len(x_coords), 3, n_steps))    \n",
    "\n",
    "    for step in range(n_steps):\n",
    "        u_heat = heatlist[step][1]\n",
    "        u_boundary_val = heatlist[step][2]\n",
    "        u_sigma = stresslist[step][2]\n",
    "\n",
    "        u_boundary = np.zeros_like(u_boundary_val)\n",
    "        u_boundary[dirichlet_nodes] = u_boundary_val[dirichlet_nodes]\n",
    "\n",
    "        # Extract values of u at the nodes\n",
    "        u_heat_at_nodes = u_heat[node_dofs]\n",
    "        u_bcs_at_nodes = u_boundary[node_dofs]\n",
    "        u_sigma_at_nodes = u_sigma[node_dofs]\n",
    "        \n",
    "        # Initialize matrices for this timestep\n",
    "        boundary_matrix = np.zeros((len(y_coords), len(x_coords)))\n",
    "        heat_matrix = np.zeros((len(y_coords), len(x_coords)))\n",
    "        stress_matrix = np.zeros((len(y_coords), len(x_coords)))\n",
    "        \n",
    "        # Populate the matrices\n",
    "        for i, value in enumerate(u_heat_at_nodes):\n",
    "            x, y = temperature_basis.mesh.p[:, i]\n",
    "            heat_matrix[y_to_idx[y], x_to_idx[x]] = value\n",
    "        \n",
    "        for i, value in enumerate(u_bcs_at_nodes):\n",
    "            x, y = temperature_basis.mesh.p[:, i]\n",
    "            boundary_matrix[y_to_idx[y], x_to_idx[x]] = value\n",
    "        \n",
    "        for i, value in enumerate(u_sigma_at_nodes):\n",
    "            x, y = temperature_basis.mesh.p[:, i]\n",
    "            stress_matrix[y_to_idx[y], x_to_idx[x]] = value\n",
    "        \n",
    "        # Store in the tensor\n",
    "        T_tensor[:, :, 0, step] = boundary_matrix\n",
    "        T_tensor[:, :, 1, step] = heat_matrix\n",
    "        T_tensor[:, :, 2, step] = stress_matrix\n",
    "\n",
    "    return T_tensor\n"
   ]
  },
  {
   "cell_type": "markdown",
   "metadata": {},
   "source": [
    "Stress Solver, given the Temperature Field"
   ]
  },
  {
   "cell_type": "code",
   "execution_count": 16,
   "metadata": {},
   "outputs": [],
   "source": [
    "# Assemble system, unchanged\n",
    "A_stress = asm(bilinear, stress_basis)"
   ]
  },
  {
   "cell_type": "code",
   "execution_count": 17,
   "metadata": {},
   "outputs": [],
   "source": [
    "def StressSolver(u_temp):\n",
    "    \"\"\"Returns the stress field corresponding to the given temperature field\"\"\"\n",
    "    TemperatureField =temperature_basis.interpolate(u_temp)\n",
    "    # TemperatureField = temperature_basis_P2.interpolate(temperature_basis_P2_temporarily.project(temperature_basis.interpolate(u_temp)))\n",
    "    temperature = {'Temperature_Field': TemperatureField}\n",
    "    \n",
    "    b = asm(thermal_force, stress_basis, **temperature)\n",
    "\n",
    "    u = solve(A_stress, b)\n",
    "    return u"
   ]
  },
  {
   "cell_type": "markdown",
   "metadata": {},
   "source": [
    "Von Mises Stress Field Maker"
   ]
  },
  {
   "cell_type": "code",
   "execution_count": null,
   "metadata": {},
   "outputs": [],
   "source": [
    "def SigmaField(u_temp, u_stress):\n",
    "\n",
    "    # Interpolate the solutions on the basis\n",
    "    u_stress_interpolated = stress_basis.interpolate(u_stress)\n",
    "    u_temp_interpolated = temperature_basis.interpolate(u_temp)\n",
    "\n",
    "    # Compute strain tensor at each point in the domain\n",
    "    r_coords = temperature_basis_P2.interpolate(temperature_basis.doflocs[0])\n",
    "    eps_u = axisymmetric_strain(u_stress_interpolated, r_coords)\n",
    "\n",
    "    therm_strain = thermal_strain(u_temp_interpolated)\n",
    "\n",
    "    Ceps_u = fct_C(eps_u)\n",
    "    inp = eps_u - therm_strain\n",
    "    Cthstr = fct_C(therm_strain)\n",
    "\n",
    "    # Compute stress tensor using Hooke's Law\n",
    "    sigma_u = Ceps_u - Cthstr  # Apply constitutive relation\n",
    "\n",
    "    sigma_xx = sigma_u[0, 0]  # σ_11 (σ_rr in cylindrical coordinates)\n",
    "    sigma_yy = sigma_u[1, 1]  # σ_22 (σ_θθ in cylindrical coordinates)\n",
    "    sigma_zz = sigma_u[2, 2]  # σ_zz (axial stress)\n",
    "    sigma_xy = sigma_u[0, 1]  # σ_rθ\n",
    "    sigma_yz = sigma_u[1, 2]  # σ_θz\n",
    "    sigma_zx = sigma_u[2, 0]  # σ_zr\n",
    "\n",
    "    von_mises_stress = np.sqrt(\n",
    "        0.5 * (\n",
    "            (sigma_xx - sigma_yy) ** 2 +\n",
    "            (sigma_yy - sigma_zz) ** 2 +\n",
    "            (sigma_zz - sigma_xx) ** 2 +\n",
    "            6 * (sigma_xy ** 2 + sigma_yz ** 2 + sigma_zx ** 2)\n",
    "        )\n",
    "    )\n",
    "\n",
    "    return von_mises_stress"
   ]
  },
  {
   "cell_type": "code",
   "execution_count": 19,
   "metadata": {},
   "outputs": [],
   "source": [
    "def Complete_Stress_Solver(list_u_temp):\n",
    "    \"\"\"\"Calculates the max von mises stress at each t\"\"\"\n",
    "    vmstresslist = []\n",
    "    for t, u_temp, _ in list_u_temp:\n",
    "        \n",
    "        u_stress = StressSolver(u_temp)\n",
    "        u_sigma = SigmaField(u_temp, u_stress)\n",
    "        u_sigma_flat = temperature_basis.project(u_sigma)\n",
    "        vmstresslist.append((t, u_sigma, u_sigma_flat, u_sigma.max()))\n",
    "\n",
    "    return vmstresslist"
   ]
  },
  {
   "cell_type": "code",
   "execution_count": null,
   "metadata": {},
   "outputs": [
    {
     "name": "stdout",
     "output_type": "stream",
     "text": [
      "True\n",
      "Runtime: 30.697403 seconds, for 3600.0 time, 36 timesteps\n",
      "Runtim for saving: 30.697403 seconds, for 3600.0 time, 36 timesteps\n",
      "(97, 33, 3, 36) shape of result Tensor\n"
     ]
    }
   ],
   "source": [
    "import time\n",
    "# Start time\n",
    "start_time = time.time()\n",
    "\n",
    "results = Heat_Evolution(t_final=t_end, n_steps = n_steps, dt = dt, BCs = dirichlet, u_init=u_init)\n",
    "maxstresslist = Complete_Stress_Solver(results)\n",
    "# End time\n",
    "end_time = time.time()\n",
    "\n",
    "# Calculate and print runtime\n",
    "runtime = end_time - start_time\n",
    "print(f\"Runtime: {runtime:.6f} seconds, for {t_end} time, {n_steps} timesteps\")\n",
    "\n",
    "#To create tensor\n",
    "\n",
    "# Start time\n",
    "start_time = time.time()\n",
    "\n",
    "result_T = Heat_Stress_Tensor_Saver(n_steps=n_steps, heatlist=results, stresslist=maxstresslist, x_to_idx=x_to_idx, \n",
    "                         y_to_idx=y_to_idx, x_coords=x_coords, y_coords=y_coords)\n",
    "# End time\n",
    "end_time = time.time()\n",
    "\n",
    "# saving\n",
    "output_dir=\"output\"\n",
    "# Ensure the output directory exists\n",
    "os.makedirs(output_dir, exist_ok=True) \n",
    "\n",
    "np.save(f\"{output_dir}/test_save.npy\", result_T)\n",
    "\n",
    "print(f\"Runtim for saving: {runtime:.6f} seconds, for {t_end} time, {n_steps} timesteps\")\n",
    "print(f\"{result_T.shape} shape of result Tensor\")"
   ]
  },
  {
   "cell_type": "code",
   "execution_count": 21,
   "metadata": {},
   "outputs": [
    {
     "data": {
      "image/png": "[encoded data removed]",
      "text/plain": [
       "<Figure size 640x480 with 2 Axes>"
      ]
     },
     "metadata": {},
     "output_type": "display_data"
    }
   ],
   "source": [
    "import numpy as np\n",
    "import matplotlib.pyplot as plt\n",
    "\n",
    "time_index = 7\n",
    "\n",
    "masked_data = np.ma.masked_where(result_T[:, :, 0, time_index] <= 0, result_T[:, :, 0, time_index])\n",
    "\n",
    "plt.imshow(\n",
    "    masked_data,\n",
    "    cmap='viridis',\n",
    "    origin='lower',\n",
    "    extent=[0, 0.06, 0, 0.15]  # Set physical axis range\n",
    ")\n",
    "plt.xlim(0, 0.06)\n",
    "plt.ylim(0, 0.15)\n",
    "plt.xlabel(\"r (m)\")\n",
    "plt.ylabel(\"z (m)\")\n",
    "plt.colorbar(label=\"K\")  # Add a color scale\n",
    "plt.title(\"Heater Values\")\n",
    "plt.show()\n"
   ]
  },
  {
   "cell_type": "code",
   "execution_count": 26,
   "metadata": {},
   "outputs": [
    {
     "data": {
      "image/png": "[encoded data removed]",
      "text/plain": [
       "<Figure size 640x480 with 2 Axes>"
      ]
     },
     "metadata": {},
     "output_type": "display_data"
    }
   ],
   "source": [
    "masked_data = np.ma.masked_where(result_T[:, :, 1, 15] <= 0, result_T[:, :, 1, 15])\n",
    "\n",
    "plt.imshow(\n",
    "    masked_data,\n",
    "    cmap='viridis',\n",
    "    origin='lower',\n",
    "    extent=[0, 0.06, 0, 0.15]  # Set physical axis range\n",
    ")\n",
    "plt.xlim(0, 0.06)\n",
    "plt.ylim(0, 0.15)\n",
    "plt.xlabel(\"r (m)\")\n",
    "plt.ylabel(\"z (m)\")\n",
    "plt.colorbar(label=\"K\")  # Add a color scale\n",
    "plt.title(\"Temperature Field\")\n",
    "plt.show()"
   ]
  },
  {
   "cell_type": "code",
   "execution_count": 27,
   "metadata": {},
   "outputs": [
    {
     "data": {
      "image/png": "[encoded data removed]",
      "text/plain": [
       "<Figure size 640x480 with 2 Axes>"
      ]
     },
     "metadata": {},
     "output_type": "display_data"
    }
   ],
   "source": [
    "masked_data = np.ma.masked_where(result_T[:, :, 2, -1] <= 0, result_T[:, :, 2, -1])\n",
    "\n",
    "plt.imshow(\n",
    "    masked_data,\n",
    "    cmap='viridis',\n",
    "    origin='lower',\n",
    "    extent=[0, 0.06, 0, 0.15]  # Set physical axis range\n",
    ")\n",
    "plt.xlim(0, 0.06)\n",
    "plt.ylim(0, 0.15)\n",
    "plt.xlabel(\"r (m)\")\n",
    "plt.ylabel(\"z (m)\")\n",
    "plt.colorbar(label=\"Pa\")  # Add a color scale\n",
    "plt.title(\"Stress Field\")\n",
    "plt.show()"
   ]
  },
  {
   "cell_type": "code",
   "execution_count": null,
   "metadata": {},
   "outputs": [],
   "source": []
  }
 ],
 "metadata": {
  "kernelspec": {
   "display_name": "MLvibes",
   "language": "python",
   "name": "python3"
  },
  "language_info": {
   "codemirror_mode": {
    "name": "ipython",
    "version": 3
   },
   "file_extension": ".py",
   "mimetype": "text/x-python",
   "name": "python",
   "nbconvert_exporter": "python",
   "pygments_lexer": "ipython3",
   "version": "3.10.6"
  }
 },
 "nbformat": 4,
 "nbformat_minor": 2
}
